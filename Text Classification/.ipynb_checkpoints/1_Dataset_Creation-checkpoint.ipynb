{
 "cells": [
  {
   "cell_type": "markdown",
   "metadata": {},
   "source": [
    "# 1. Dataset Creation"
   ]
  },
  {
   "cell_type": "code",
   "execution_count": null,
   "metadata": {},
   "outputs": [],
   "source": [
    "import pandas as pd\n",
    "import os\n",
    "import glob\n",
    "\n",
    "dataloc = \"Data/bbc\"\n",
    "categories = sorted([cat for cat in os.listdir(dataloc) if os.path.isdir(os.path.join(dataloc,cat))])\n",
    "\n",
    "data = {'File_Name':[], 'Content':[], 'Category':[]}\n",
    "\n",
    "#read all files in each folder\n",
    "for cat in categories:\n",
    "    list_files = glob.glob(os.path.join(dataloc,cat,\"*.txt\"))\n",
    "    for fn in sorted(list_files):\n",
    "        with open(fn, 'r',encoding='utf-8',errors='ignore') as f:\n",
    "            data['File_Name'].append(fn)\n",
    "            data['Content'].append(f.read())\n",
    "            data['Category'].append(cat)\n",
    "\n",
    "df = pd.DataFrame(data)\n",
    "\n",
    "list_columns = [\"File_Name\", \"Category\", \"Content\"]\n",
    "df = df[list_columns]\n",
    "\n",
    "print(df['Content'][0])"
   ]
  },
  {
   "cell_type": "code",
   "execution_count": null,
   "metadata": {},
   "outputs": [],
   "source": [
    "df.head()"
   ]
  },
  {
   "cell_type": "code",
   "execution_count": null,
   "metadata": {},
   "outputs": [],
   "source": [
    "df.to_csv(\"Data/News_dataset.csv\", sep=';',index=False, encoding='utf-8')"
   ]
  }
 ],
 "metadata": {
  "kernelspec": {
   "display_name": "Python 3",
   "language": "python",
   "name": "python3"
  },
  "language_info": {
   "codemirror_mode": {
    "name": "ipython",
    "version": 3
   },
   "file_extension": ".py",
   "mimetype": "text/x-python",
   "name": "python",
   "nbconvert_exporter": "python",
   "pygments_lexer": "ipython3",
   "version": "3.7.3"
  }
 },
 "nbformat": 4,
 "nbformat_minor": 2
}
